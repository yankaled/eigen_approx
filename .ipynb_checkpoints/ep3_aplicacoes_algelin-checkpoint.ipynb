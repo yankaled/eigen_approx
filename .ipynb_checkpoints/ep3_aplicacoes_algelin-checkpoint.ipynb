{
 "cells": [
  {
   "cell_type": "code",
   "execution_count": 1,
   "metadata": {},
   "outputs": [],
   "source": [
    "import numpy as np\n",
    "import scipy\n",
    "import scipy.io\n",
    "import math\n",
    "import matplotlib.pyplot as plt"
   ]
  },
  {
   "cell_type": "code",
   "execution_count": 2,
   "metadata": {},
   "outputs": [],
   "source": [
    "LF10 = scipy.sparse.csr_matrix(scipy.io.mmread('matrizes/LF10.mtx'))\n",
    "bcsstk01 = scipy.sparse.csr_matrix(scipy.io.mmread('matrizes/bcsstk01.mtx'))\n",
    "bcsstm05 = scipy.sparse.csr_matrix(scipy.io.mmread('matrizes/bcsstm05.mtx'))\n",
    "nos4 = scipy.sparse.csr_matrix(scipy.io.mmread('matrizes/nos4.mtx'))"
   ]
  },
  {
   "cell_type": "code",
   "execution_count": 41,
   "metadata": {},
   "outputs": [],
   "source": [
    "def encontrar_primeiro(item, vec):\n",
    "    for i in range(len(vec)):\n",
    "        if math.fabs(item) == math.fabs(vec[i]):\n",
    "            return i\n",
    "    return -1"
   ]
  },
  {
   "cell_type": "code",
   "execution_count": 138,
   "metadata": {},
   "outputs": [],
   "source": [
    "def power_method(n, A, x, TOL, N):\n",
    "    k = 1\n",
    "    x_p = x[encontrar_primeiro(np.linalg.norm(x, np.inf), x)]\n",
    "    x = x/x_p\n",
    "    while(k <= N):\n",
    "        y = np.matmul(A, x)\n",
    "        y_p = y[encontrar_primeiro(np.linalg.norm(y, np.inf), y)]\n",
    "        u = y_p\n",
    "        if y_p ==0:\n",
    "            print('Autovetor', x)\n",
    "            print('Autovalor 0')\n",
    "            break;\n",
    "        ERR = np.linalg.norm(x - (y/y_p), np.inf)\n",
    "        x = y/y_p\n",
    "        if ERR < TOL:\n",
    "            return [u, x, k]\n",
    "        k += 1\n",
    "    print('Número máximo de iterações atingido')"
   ]
  },
  {
   "cell_type": "code",
   "execution_count": 137,
   "metadata": {},
   "outputs": [],
   "source": [
    "def inverse_power_method(n, A, x, TOL, N):\n",
    "    q = np.dot(x, np.matmul(A, x))/np.dot(x, x)\n",
    "    k = 1\n",
    "    x_p = x[encontrar_primeiro(np.linalg.norm(x, np.inf), x)]\n",
    "    x = x/x_p\n",
    "    AqI = A - q*np.identity(n)\n",
    "    while(k <= N):\n",
    "        try:\n",
    "            y = np.linalg.solve(AqI, x)\n",
    "        except:\n",
    "            print('q é um autovalor: ', q)\n",
    "            break;\n",
    "        y_p = y[encontrar_primeiro(np.linalg.norm(y, np.inf), y)]\n",
    "        u = y_p\n",
    "        ERR = np.linalg.norm(x - (y/y_p), np.inf)\n",
    "        x = y/y_p\n",
    "        if ERR < TOL:\n",
    "            u = (1/u) + q\n",
    "            return [u, x, k]\n",
    "        k += 1\n",
    "    print('Número de iterações máximo alcançado.')"
   ]
  },
  {
   "cell_type": "code",
   "execution_count": 142,
   "metadata": {},
   "outputs": [],
   "source": [
    "matriz = np.array([[-4, 14, 0], [-5, 13, 0], [-1, 0, 2]])"
   ]
  },
  {
   "cell_type": "code",
   "execution_count": 143,
   "metadata": {},
   "outputs": [
    {
     "data": {
      "text/plain": [
       "[6.000000006386211, array([ 1.        ,  0.71428571, -0.25      ]), 29]"
      ]
     },
     "execution_count": 143,
     "metadata": {},
     "output_type": "execute_result"
    }
   ],
   "source": [
    "power_method(3, matriz, np.array([1, 1, 1]), 0.000000001, 10000)"
   ]
  },
  {
   "cell_type": "code",
   "execution_count": 144,
   "metadata": {},
   "outputs": [
    {
     "data": {
      "text/plain": [
       "[6.0000000001714255, array([ 1.        ,  0.71428571, -0.25      ]), 10]"
      ]
     },
     "execution_count": 144,
     "metadata": {},
     "output_type": "execute_result"
    }
   ],
   "source": [
    "inverse_power_method(3, matriz, np.array([1, 1, 1]), 0.000000001, 10000)"
   ]
  },
  {
   "cell_type": "code",
   "execution_count": 145,
   "metadata": {},
   "outputs": [],
   "source": [
    "def QR(n, A, TOL, N):\n",
    "    k = 1\n",
    "    Ak_1 = A\n",
    "    Uk_1 = np.identity(n)\n",
    "    stop = False\n",
    "    while(k <= N):\n",
    "        Q, R = np.linalg.qr(Ak_1)\n",
    "        Ak = np.matmul(R, Q)\n",
    "        Ak_1 = Ak\n",
    "        Uk = np.matmul(Uk_1, Q)\n",
    "        Uk_1 = Uk\n",
    "        k += 1\n",
    "        stop = True\n",
    "        for i in range(n):\n",
    "            if Ak[i][i-1] > TOL:\n",
    "                stop = False\n",
    "        if stop:\n",
    "            break;\n",
    "    return [Ak, k]"
   ]
  },
  {
   "cell_type": "code",
   "execution_count": 147,
   "metadata": {},
   "outputs": [
    {
     "data": {
      "text/plain": [
       "[array([[10.45238095, 10.65717267, 12.95619077],\n",
       "        [-2.90534718, -0.39287442, -3.13578448],\n",
       "        [-0.21162562, -0.97553758,  0.94049347]]), 2]"
      ]
     },
     "execution_count": 147,
     "metadata": {},
     "output_type": "execute_result"
    }
   ],
   "source": [
    "QR(3, matriz, 0.0001, 1)"
   ]
  },
  {
   "cell_type": "code",
   "execution_count": 148,
   "metadata": {},
   "outputs": [
    {
     "data": {
      "text/plain": [
       "[array([[ 6.13816253e+00,  5.63307357e+00,  1.77230750e+01],\n",
       "        [-7.52579006e-02,  3.04639035e+00,  3.85998355e+00],\n",
       "        [-3.83832719e-04, -5.07657140e-02,  1.81544713e+00]]), 6]"
      ]
     },
     "execution_count": 148,
     "metadata": {},
     "output_type": "execute_result"
    }
   ],
   "source": [
    "QR(3, matriz, 0.0001, 5)"
   ]
  },
  {
   "cell_type": "code",
   "execution_count": 155,
   "metadata": {},
   "outputs": [
    {
     "data": {
      "text/plain": [
       "[array([[ 6.00000418e+00,  4.93347723e+00, -1.78514847e+01],\n",
       "        [-2.53955010e-06,  3.00036441e+00, -4.35712432e+00],\n",
       "        [ 2.14918173e-11,  8.46253600e-05,  1.99963141e+00]]), 21]"
      ]
     },
     "execution_count": 155,
     "metadata": {},
     "output_type": "execute_result"
    }
   ],
   "source": [
    "QR(3, matriz, 0.0001, 1000)"
   ]
  },
  {
   "cell_type": "code",
   "execution_count": 154,
   "metadata": {},
   "outputs": [
    {
     "data": {
      "text/plain": [
       "[array([[ 6.00000000e+00,  4.93197064e+00, -1.78518981e+01],\n",
       "        [-9.69151318e-12,  3.00000025e+00, -4.35722400e+00],\n",
       "        [ 5.54536339e-20,  5.72187557e-08,  1.99999975e+00]]), 39]"
      ]
     },
     "execution_count": 154,
     "metadata": {},
     "output_type": "execute_result"
    }
   ],
   "source": [
    "QR(3, matriz, 0.0000001, 10000)"
   ]
  }
 ],
 "metadata": {
  "kernelspec": {
   "display_name": "Python 3",
   "language": "python",
   "name": "python3"
  },
  "language_info": {
   "codemirror_mode": {
    "name": "ipython",
    "version": 3
   },
   "file_extension": ".py",
   "mimetype": "text/x-python",
   "name": "python",
   "nbconvert_exporter": "python",
   "pygments_lexer": "ipython3",
   "version": "3.6.4"
  }
 },
 "nbformat": 4,
 "nbformat_minor": 2
}
