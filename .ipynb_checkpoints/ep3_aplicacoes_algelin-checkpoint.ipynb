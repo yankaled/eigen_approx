{
 "cells": [
  {
   "cell_type": "code",
   "execution_count": 1,
   "metadata": {},
   "outputs": [],
   "source": [
    "import numpy as np\n",
    "import scipy\n",
    "import scipy.io\n",
    "import math\n",
    "import matplotlib.pyplot as plt"
   ]
  },
  {
   "cell_type": "code",
   "execution_count": 157,
   "metadata": {},
   "outputs": [],
   "source": [
    "LF10 = scipy.sparse.csr_matrix(scipy.io.mmread('matrizes/LF10.mtx'))\n",
    "bcsstk01 = scipy.sparse.csr_matrix(scipy.io.mmread('matrizes/bcsstk01.mtx'))\n",
    "bcsstm05 = scipy.sparse.csr_matrix(scipy.io.mmread('matrizes/bcsstm05.mtx'))\n",
    "nos4 = scipy.sparse.csr_matrix(scipy.io.mmread('matrizes/nos4.mtx'))"
   ]
  },
  {
   "cell_type": "code",
   "execution_count": 41,
   "metadata": {},
   "outputs": [],
   "source": [
    "def encontrar_primeiro(item, vec):\n",
    "    for i in range(len(vec)):\n",
    "        if math.fabs(item) == math.fabs(vec[i]):\n",
    "            return i\n",
    "    return -1"
   ]
  },
  {
   "cell_type": "code",
   "execution_count": 138,
   "metadata": {},
   "outputs": [],
   "source": [
    "def power_method(n, A, x, TOL, N):\n",
    "    k = 1\n",
    "    x_p = x[encontrar_primeiro(np.linalg.norm(x, np.inf), x)]\n",
    "    x = x/x_p\n",
    "    while(k <= N):\n",
    "        y = np.matmul(A, x)\n",
    "        y_p = y[encontrar_primeiro(np.linalg.norm(y, np.inf), y)]\n",
    "        u = y_p\n",
    "        if y_p ==0:\n",
    "            print('Autovetor', x)\n",
    "            print('Autovalor 0')\n",
    "            break;\n",
    "        ERR = np.linalg.norm(x - (y/y_p), np.inf)\n",
    "        x = y/y_p\n",
    "        if ERR < TOL:\n",
    "            return [u, x, k]\n",
    "        k += 1\n",
    "    print('Número máximo de iterações atingido')"
   ]
  },
  {
   "cell_type": "code",
   "execution_count": 212,
   "metadata": {},
   "outputs": [],
   "source": [
    "def inverse_power_method(n, A, x, TOL, N):\n",
    "    q = np.dot(x, np.matmul(A, x))/np.dot(x, x)\n",
    "    k = 1\n",
    "    x_p = x[encontrar_primeiro(np.linalg.norm(x, np.inf), x)]\n",
    "    x = x/x_p\n",
    "    AqI = A - q*np.identity(n)\n",
    "    while(k <= N):\n",
    "        try:\n",
    "            y = np.linalg.solve(AqI, x)\n",
    "        except:\n",
    "            print('q é um autovalor: ', q)\n",
    "            break;\n",
    "        y_p = y[encontrar_primeiro(np.linalg.norm(y, np.inf), y)]\n",
    "        u = y_p\n",
    "        ERR = np.linalg.norm(x - (y/y_p), np.inf)\n",
    "        x = y/y_p\n",
    "        if ERR < TOL:\n",
    "            u = (1/u) + q\n",
    "            return [u, x, k, q]\n",
    "        k += 1\n",
    "    print('Número de iterações máximo alcançado.')"
   ]
  },
  {
   "cell_type": "code",
   "execution_count": 142,
   "metadata": {},
   "outputs": [],
   "source": [
    "matriz = np.array([[-4, 14, 0], [-5, 13, 0], [-1, 0, 2]])"
   ]
  },
  {
   "cell_type": "code",
   "execution_count": 143,
   "metadata": {},
   "outputs": [
    {
     "data": {
      "text/plain": [
       "[6.000000006386211, array([ 1.        ,  0.71428571, -0.25      ]), 29]"
      ]
     },
     "execution_count": 143,
     "metadata": {},
     "output_type": "execute_result"
    }
   ],
   "source": [
    "power_method(3, matriz, np.array([1, 1, 1]), 0.000000001, 10000)"
   ]
  },
  {
   "cell_type": "code",
   "execution_count": 204,
   "metadata": {},
   "outputs": [
    {
     "data": {
      "text/plain": [
       "[6.0000000001714255, array([ 1.        ,  0.71428571, -0.25      ]), 10]"
      ]
     },
     "execution_count": 204,
     "metadata": {},
     "output_type": "execute_result"
    }
   ],
   "source": [
    "inverse_power_method(3, matriz, np.array([1, 1, 1]), 0.000000001, 10000)"
   ]
  },
  {
   "cell_type": "code",
   "execution_count": 145,
   "metadata": {},
   "outputs": [],
   "source": [
    "def QR(n, A, TOL, N):\n",
    "    k = 1\n",
    "    Ak_1 = A\n",
    "    Uk_1 = np.identity(n)\n",
    "    stop = False\n",
    "    while(k <= N):\n",
    "        Q, R = np.linalg.qr(Ak_1)\n",
    "        Ak = np.matmul(R, Q)\n",
    "        Ak_1 = Ak\n",
    "        Uk = np.matmul(Uk_1, Q)\n",
    "        Uk_1 = Uk\n",
    "        k += 1\n",
    "        stop = True\n",
    "        for i in range(n):\n",
    "            if Ak[i][i-1] > TOL:\n",
    "                stop = False\n",
    "        if stop:\n",
    "            break;\n",
    "    return [Ak, k]"
   ]
  },
  {
   "cell_type": "code",
   "execution_count": 147,
   "metadata": {},
   "outputs": [
    {
     "data": {
      "text/plain": [
       "[array([[10.45238095, 10.65717267, 12.95619077],\n",
       "        [-2.90534718, -0.39287442, -3.13578448],\n",
       "        [-0.21162562, -0.97553758,  0.94049347]]), 2]"
      ]
     },
     "execution_count": 147,
     "metadata": {},
     "output_type": "execute_result"
    }
   ],
   "source": [
    "QR(3, matriz, 0.0001, 1)"
   ]
  },
  {
   "cell_type": "code",
   "execution_count": 148,
   "metadata": {},
   "outputs": [
    {
     "data": {
      "text/plain": [
       "[array([[ 6.13816253e+00,  5.63307357e+00,  1.77230750e+01],\n",
       "        [-7.52579006e-02,  3.04639035e+00,  3.85998355e+00],\n",
       "        [-3.83832719e-04, -5.07657140e-02,  1.81544713e+00]]), 6]"
      ]
     },
     "execution_count": 148,
     "metadata": {},
     "output_type": "execute_result"
    }
   ],
   "source": [
    "QR(3, matriz, 0.0001, 5)"
   ]
  },
  {
   "cell_type": "code",
   "execution_count": 155,
   "metadata": {},
   "outputs": [
    {
     "data": {
      "text/plain": [
       "[array([[ 6.00000418e+00,  4.93347723e+00, -1.78514847e+01],\n",
       "        [-2.53955010e-06,  3.00036441e+00, -4.35712432e+00],\n",
       "        [ 2.14918173e-11,  8.46253600e-05,  1.99963141e+00]]), 21]"
      ]
     },
     "execution_count": 155,
     "metadata": {},
     "output_type": "execute_result"
    }
   ],
   "source": [
    "QR(3, matriz, 0.0001, 1000)"
   ]
  },
  {
   "cell_type": "code",
   "execution_count": 154,
   "metadata": {},
   "outputs": [
    {
     "data": {
      "text/plain": [
       "[array([[ 6.00000000e+00,  4.93197064e+00, -1.78518981e+01],\n",
       "        [-9.69151318e-12,  3.00000025e+00, -4.35722400e+00],\n",
       "        [ 5.54536339e-20,  5.72187557e-08,  1.99999975e+00]]), 39]"
      ]
     },
     "execution_count": 154,
     "metadata": {},
     "output_type": "execute_result"
    }
   ],
   "source": [
    "QR(3, matriz, 0.0000001, 10000)"
   ]
  },
  {
   "cell_type": "code",
   "execution_count": 216,
   "metadata": {},
   "outputs": [],
   "source": [
    "eigen, x_, n_ = power_method(LF10.shape[0], np.array(LF10.todense()), np.ones(LF10.shape[0]), 0.0000001, 100000000)"
   ]
  },
  {
   "cell_type": "code",
   "execution_count": 218,
   "metadata": {},
   "outputs": [
    {
     "data": {
      "text/plain": [
       "[333192.39624180354,\n",
       " array([ 4.97350108e-04, -3.47294354e-01, -9.34728757e-04,  6.52702504e-01,\n",
       "         7.61999320e-04, -8.79384828e-01, -4.97359884e-04,  1.00000000e+00,\n",
       "         1.72731300e-04, -1.00000000e+00,  1.72731300e-04,  8.79384828e-01,\n",
       "        -4.97359884e-04, -6.52702504e-01,  7.61999320e-04,  3.47294354e-01,\n",
       "        -9.34728757e-04,  4.97350108e-04]),\n",
       " 4,\n",
       " 333192.39624178584]"
      ]
     },
     "execution_count": 218,
     "metadata": {},
     "output_type": "execute_result"
    }
   ],
   "source": [
    "inverse_power_method(LF10.shape[0], np.array(LF10.todense()), x_, 0.0000000000000000000000001, 1000000000000000000000000000)"
   ]
  },
  {
   "cell_type": "code",
   "execution_count": 219,
   "metadata": {},
   "outputs": [
    {
     "data": {
      "text/plain": [
       "333192.396241802"
      ]
     },
     "execution_count": 219,
     "metadata": {},
     "output_type": "execute_result"
    }
   ],
   "source": [
    "max(np.diag(QR(LF10.shape[0], np.array(LF10.todense()), 0.0000001, 10000)[0]))"
   ]
  },
  {
   "cell_type": "code",
   "execution_count": 181,
   "metadata": {},
   "outputs": [
    {
     "data": {
      "text/plain": [
       "333192.3962418033"
      ]
     },
     "execution_count": 181,
     "metadata": {},
     "output_type": "execute_result"
    }
   ],
   "source": [
    "max(np.linalg.eig(np.array(LF10.todense()))[0])"
   ]
  },
  {
   "cell_type": "code",
   "execution_count": 188,
   "metadata": {},
   "outputs": [
    {
     "data": {
      "text/plain": [
       "3015179089.8359747"
      ]
     },
     "execution_count": 188,
     "metadata": {},
     "output_type": "execute_result"
    }
   ],
   "source": [
    "power_method(bcsstk01.shape[0], np.array(bcsstk01.todense()), np.ones(bcsstk01.shape[0]), 0.0000001, 100000000)[0]"
   ]
  },
  {
   "cell_type": "code",
   "execution_count": 213,
   "metadata": {},
   "outputs": [
    {
     "data": {
      "text/plain": [
       "[1007145954.3485603,\n",
       " array([ 1.32779952e-03, -1.33433248e-05,  8.48325785e-04,  3.37522590e-05,\n",
       "         3.59342389e-01, -1.12958984e-02, -1.57298306e-03, -1.95607694e-04,\n",
       "        -1.66517090e-03, -3.52073191e-05,  1.00000000e+00, -1.42350279e-01,\n",
       "         1.59945271e-03,  1.96505388e-04,  1.66928066e-03, -3.60892353e-06,\n",
       "        -3.97659364e-01,  1.06952161e-01, -9.80508432e-04,  1.33151794e-05,\n",
       "        -8.48773514e-04,  1.99176360e-05, -6.65531983e-01,  8.88018703e-03,\n",
       "        -6.87363225e-04,  2.34788595e-08,  2.56843855e-07,  1.64085569e-04,\n",
       "        -1.89648923e-01, -2.42524408e-03,  1.02762747e-03,  1.28256443e-05,\n",
       "        -1.19175294e-04, -1.65026705e-04, -3.82121594e-01,  3.87118467e-02,\n",
       "        -8.71414805e-04, -1.28131484e-05,  1.19166965e-04,  1.14736814e-05,\n",
       "         4.16617627e-01, -3.69027985e-02,  2.31729145e-04, -9.07050949e-07,\n",
       "        -3.92451832e-06, -4.94448582e-06,  8.88981240e-02,  3.05677417e-02]),\n",
       " 30,\n",
       " 971355071.2116152]"
      ]
     },
     "execution_count": 213,
     "metadata": {},
     "output_type": "execute_result"
    }
   ],
   "source": [
    "inverse_power_method(bcsstk01.shape[0], np.array(bcsstk01.todense()), np.ones(bcsstk01.shape[0]), 0.0000001, 10000)"
   ]
  },
  {
   "cell_type": "code",
   "execution_count": 191,
   "metadata": {},
   "outputs": [
    {
     "data": {
      "text/plain": [
       "3015179089.897689"
      ]
     },
     "execution_count": 191,
     "metadata": {},
     "output_type": "execute_result"
    }
   ],
   "source": [
    "max(np.diag(QR(bcsstk01.shape[0], np.array(bcsstk01.todense()), 0.0000001, 10000)[0]))"
   ]
  },
  {
   "cell_type": "code",
   "execution_count": null,
   "metadata": {},
   "outputs": [],
   "source": [
    "LF10\n",
    "bcsstk01\n",
    "bcsstm05\n",
    "nos4"
   ]
  }
 ],
 "metadata": {
  "kernelspec": {
   "display_name": "Python 3",
   "language": "python",
   "name": "python3"
  },
  "language_info": {
   "codemirror_mode": {
    "name": "ipython",
    "version": 3
   },
   "file_extension": ".py",
   "mimetype": "text/x-python",
   "name": "python",
   "nbconvert_exporter": "python",
   "pygments_lexer": "ipython3",
   "version": "3.6.4"
  }
 },
 "nbformat": 4,
 "nbformat_minor": 2
}
