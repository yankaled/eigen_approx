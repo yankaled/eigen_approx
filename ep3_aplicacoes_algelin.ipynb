{
 "cells": [
  {
   "cell_type": "code",
   "execution_count": 220,
   "metadata": {},
   "outputs": [],
   "source": [
    "import numpy as np\n",
    "import scipy\n",
    "import scipy.io\n",
    "import math\n",
    "import matplotlib.pyplot as plt"
   ]
  },
  {
   "cell_type": "code",
   "execution_count": 157,
   "metadata": {},
   "outputs": [],
   "source": [
    "LF10 = scipy.sparse.csr_matrix(scipy.io.mmread('matrizes/LF10.mtx'))\n",
    "bcsstk01 = scipy.sparse.csr_matrix(scipy.io.mmread('matrizes/bcsstk01.mtx'))\n",
    "bcsstm05 = scipy.sparse.csr_matrix(scipy.io.mmread('matrizes/bcsstm05.mtx'))\n",
    "nos4 = scipy.sparse.csr_matrix(scipy.io.mmread('matrizes/nos4.mtx'))"
   ]
  },
  {
   "cell_type": "code",
   "execution_count": 41,
   "metadata": {},
   "outputs": [],
   "source": [
    "def encontrar_primeiro(item, vec):\n",
    "    for i in range(len(vec)):\n",
    "        if math.fabs(item) == math.fabs(vec[i]):\n",
    "            return i\n",
    "    return -1"
   ]
  },
  {
   "cell_type": "code",
   "execution_count": 138,
   "metadata": {},
   "outputs": [],
   "source": [
    "def power_method(n, A, x, TOL, N):\n",
    "    k = 1\n",
    "    x_p = x[encontrar_primeiro(np.linalg.norm(x, np.inf), x)]\n",
    "    x = x/x_p\n",
    "    while(k <= N):\n",
    "        y = np.matmul(A, x)\n",
    "        y_p = y[encontrar_primeiro(np.linalg.norm(y, np.inf), y)]\n",
    "        u = y_p\n",
    "        if y_p ==0:\n",
    "            print('Autovetor', x)\n",
    "            print('Autovalor 0')\n",
    "            break;\n",
    "        ERR = np.linalg.norm(x - (y/y_p), np.inf)\n",
    "        x = y/y_p\n",
    "        if ERR < TOL:\n",
    "            return [u, x, k]\n",
    "        k += 1\n",
    "    print('Número máximo de iterações atingido')"
   ]
  },
  {
   "cell_type": "code",
   "execution_count": 243,
   "metadata": {},
   "outputs": [],
   "source": [
    "def gersgorin_max(n, A):\n",
    "    supremo_raio = []\n",
    "    quasi_sum_linha = []\n",
    "    for i in range(n):\n",
    "        soma = 0\n",
    "        for j in range(n):\n",
    "            if(i!=j):\n",
    "                soma = soma + math.fabs(A[i][i])\n",
    "        quasi_sum_linha.append(soma)\n",
    "        \n",
    "    for i, e in enumerate(np.diag(A)):\n",
    "        supremo_raio.append(e + quasi_sum_linha[i])\n",
    "    \n",
    "    return max(supremo_raio)"
   ]
  },
  {
   "cell_type": "markdown",
   "metadata": {},
   "source": [
    "No método da potência inverso, vamos usar um $q$ diferente do sugerido por Burden. Como supomos que não há informação sobre um vetor $x^{(0)}$ próximo do autovetor correspondente ao maior autovalor, vamos utilizar os Círculos de Gersgorin para inferir um bom valor inicial para $q$. Como $q$ deve estar próximo do maior autovalor da matriz $A$, vamos usar o ponto extremo (na reta Real) de maior valor considerando todos os círculos de Gersgorin."
   ]
  },
  {
   "cell_type": "code",
   "execution_count": 248,
   "metadata": {},
   "outputs": [],
   "source": [
    "def inverse_power_method(n, A, x, TOL, N):\n",
    "    q = gersgorin_max(n, A)\n",
    "    #q = np.dot(x, np.matmul(A, x))/np.dot(x, x)\n",
    "    k = 1\n",
    "    x_p = x[encontrar_primeiro(np.linalg.norm(x, np.inf), x)]\n",
    "    x = x/x_p\n",
    "    AqI = A - q*np.identity(n)\n",
    "    while(k <= N):\n",
    "        try:\n",
    "            y = np.linalg.solve(AqI, x)\n",
    "        except:\n",
    "            print('q é um autovalor: ', q)\n",
    "            break;\n",
    "        y_p = y[encontrar_primeiro(np.linalg.norm(y, np.inf), y)]\n",
    "        u = y_p\n",
    "        ERR = np.linalg.norm(x - (y/y_p), np.inf)\n",
    "        x = y/y_p\n",
    "        if ERR < TOL:\n",
    "            u = (1/u) + q\n",
    "            return [u, k, q]\n",
    "        k += 1\n",
    "    print('Número de iterações máximo alcançado.')"
   ]
  },
  {
   "cell_type": "code",
   "execution_count": 224,
   "metadata": {},
   "outputs": [
    {
     "data": {
      "text/plain": [
       "13"
      ]
     },
     "execution_count": 224,
     "metadata": {},
     "output_type": "execute_result"
    }
   ],
   "source": [
    "max(np.diag(matriz))"
   ]
  },
  {
   "cell_type": "code",
   "execution_count": 142,
   "metadata": {},
   "outputs": [],
   "source": [
    "matriz = np.array([[-4, 14, 0], [-5, 13, 0], [-1, 0, 2]])"
   ]
  },
  {
   "cell_type": "code",
   "execution_count": 143,
   "metadata": {},
   "outputs": [
    {
     "data": {
      "text/plain": [
       "[6.000000006386211, array([ 1.        ,  0.71428571, -0.25      ]), 29]"
      ]
     },
     "execution_count": 143,
     "metadata": {},
     "output_type": "execute_result"
    }
   ],
   "source": [
    "power_method(3, matriz, np.array([1, 1, 1]), 0.000000001, 10000)"
   ]
  },
  {
   "cell_type": "code",
   "execution_count": 253,
   "metadata": {},
   "outputs": [
    {
     "data": {
      "text/plain": [
       "[6.0000000435093455, 201, 39.0]"
      ]
     },
     "execution_count": 253,
     "metadata": {},
     "output_type": "execute_result"
    }
   ],
   "source": [
    "inverse_power_method(3, matriz, np.array([1, 1, 1]), 0.000000001, 10000)"
   ]
  },
  {
   "cell_type": "code",
   "execution_count": 145,
   "metadata": {},
   "outputs": [],
   "source": [
    "def QR(n, A, TOL, N):\n",
    "    k = 1\n",
    "    Ak_1 = A\n",
    "    Uk_1 = np.identity(n)\n",
    "    stop = False\n",
    "    while(k <= N):\n",
    "        Q, R = np.linalg.qr(Ak_1)\n",
    "        Ak = np.matmul(R, Q)\n",
    "        Ak_1 = Ak\n",
    "        Uk = np.matmul(Uk_1, Q)\n",
    "        Uk_1 = Uk\n",
    "        k += 1\n",
    "        stop = True\n",
    "        for i in range(n):\n",
    "            if Ak[i][i-1] > TOL:\n",
    "                stop = False\n",
    "        if stop:\n",
    "            break;\n",
    "    return [Ak, k]"
   ]
  },
  {
   "cell_type": "code",
   "execution_count": 147,
   "metadata": {},
   "outputs": [
    {
     "data": {
      "text/plain": [
       "[array([[10.45238095, 10.65717267, 12.95619077],\n",
       "        [-2.90534718, -0.39287442, -3.13578448],\n",
       "        [-0.21162562, -0.97553758,  0.94049347]]), 2]"
      ]
     },
     "execution_count": 147,
     "metadata": {},
     "output_type": "execute_result"
    }
   ],
   "source": [
    "QR(3, matriz, 0.0001, 1)"
   ]
  },
  {
   "cell_type": "code",
   "execution_count": 148,
   "metadata": {},
   "outputs": [
    {
     "data": {
      "text/plain": [
       "[array([[ 6.13816253e+00,  5.63307357e+00,  1.77230750e+01],\n",
       "        [-7.52579006e-02,  3.04639035e+00,  3.85998355e+00],\n",
       "        [-3.83832719e-04, -5.07657140e-02,  1.81544713e+00]]), 6]"
      ]
     },
     "execution_count": 148,
     "metadata": {},
     "output_type": "execute_result"
    }
   ],
   "source": [
    "QR(3, matriz, 0.0001, 5)"
   ]
  },
  {
   "cell_type": "code",
   "execution_count": 155,
   "metadata": {},
   "outputs": [
    {
     "data": {
      "text/plain": [
       "[array([[ 6.00000418e+00,  4.93347723e+00, -1.78514847e+01],\n",
       "        [-2.53955010e-06,  3.00036441e+00, -4.35712432e+00],\n",
       "        [ 2.14918173e-11,  8.46253600e-05,  1.99963141e+00]]), 21]"
      ]
     },
     "execution_count": 155,
     "metadata": {},
     "output_type": "execute_result"
    }
   ],
   "source": [
    "QR(3, matriz, 0.0001, 1000)"
   ]
  },
  {
   "cell_type": "code",
   "execution_count": 154,
   "metadata": {},
   "outputs": [
    {
     "data": {
      "text/plain": [
       "[array([[ 6.00000000e+00,  4.93197064e+00, -1.78518981e+01],\n",
       "        [-9.69151318e-12,  3.00000025e+00, -4.35722400e+00],\n",
       "        [ 5.54536339e-20,  5.72187557e-08,  1.99999975e+00]]), 39]"
      ]
     },
     "execution_count": 154,
     "metadata": {},
     "output_type": "execute_result"
    }
   ],
   "source": [
    "QR(3, matriz, 0.0000001, 10000)"
   ]
  },
  {
   "cell_type": "code",
   "execution_count": 216,
   "metadata": {},
   "outputs": [],
   "source": [
    "eigen, x_, n_ = power_method(LF10.shape[0], np.array(LF10.todense()), np.ones(LF10.shape[0]), 0.0000001, 100000000)"
   ]
  },
  {
   "cell_type": "code",
   "execution_count": 254,
   "metadata": {},
   "outputs": [
    {
     "name": "stdout",
     "output_type": "stream",
     "text": [
      "q é um autovalor:  3091963.104000001\n",
      "Número de iterações máximo alcançado.\n"
     ]
    }
   ],
   "source": [
    "inverse_power_method(LF10.shape[0], np.array(LF10.todense()), x_, 0.0001, 100000)"
   ]
  },
  {
   "cell_type": "code",
   "execution_count": 255,
   "metadata": {},
   "outputs": [
    {
     "data": {
      "text/plain": [
       "[303284.50668113213, 193, 3091963.104000001]"
      ]
     },
     "execution_count": 255,
     "metadata": {},
     "output_type": "execute_result"
    }
   ],
   "source": [
    "inverse_power_method(LF10.shape[0], np.array(LF10.todense()), np.ones(LF10.shape[0]), 0.0001, 100000)"
   ]
  },
  {
   "cell_type": "code",
   "execution_count": 219,
   "metadata": {},
   "outputs": [
    {
     "data": {
      "text/plain": [
       "333192.396241802"
      ]
     },
     "execution_count": 219,
     "metadata": {},
     "output_type": "execute_result"
    }
   ],
   "source": [
    "max(np.diag(QR(LF10.shape[0], np.array(LF10.todense()), 0.0000001, 10000)[0]))"
   ]
  },
  {
   "cell_type": "code",
   "execution_count": 181,
   "metadata": {},
   "outputs": [
    {
     "data": {
      "text/plain": [
       "333192.3962418033"
      ]
     },
     "execution_count": 181,
     "metadata": {},
     "output_type": "execute_result"
    }
   ],
   "source": [
    "max(np.linalg.eig(np.array(LF10.todense()))[0])"
   ]
  },
  {
   "cell_type": "code",
   "execution_count": 234,
   "metadata": {},
   "outputs": [],
   "source": [
    "eigen, x_, n = power_method(bcsstk01.shape[0], np.array(bcsstk01.todense()), np.ones(bcsstk01.shape[0]), 0.0000001, 100000000)"
   ]
  },
  {
   "cell_type": "code",
   "execution_count": 251,
   "metadata": {},
   "outputs": [
    {
     "data": {
      "text/plain": [
       "[3015176708.274246, 4128, 118674590495.03996]"
      ]
     },
     "execution_count": 251,
     "metadata": {},
     "output_type": "execute_result"
    }
   ],
   "source": [
    "inverse_power_method(bcsstk01.shape[0], np.array(bcsstk01.todense()), np.ones(bcsstk01.shape[0]), 0.0001, 10000)"
   ]
  },
  {
   "cell_type": "code",
   "execution_count": 252,
   "metadata": {},
   "outputs": [
    {
     "data": {
      "text/plain": [
       "3015179089.897689"
      ]
     },
     "execution_count": 252,
     "metadata": {},
     "output_type": "execute_result"
    }
   ],
   "source": [
    "max(np.diag(QR(bcsstk01.shape[0], np.array(bcsstk01.todense()), 0.0000001, 10000)[0]))"
   ]
  },
  {
   "cell_type": "markdown",
   "metadata": {},
   "source": [
    "# Testar com todas as matrizes"
   ]
  },
  {
   "cell_type": "code",
   "execution_count": null,
   "metadata": {},
   "outputs": [],
   "source": [
    "LF10\n",
    "bcsstk01\n",
    "bcsstm05\n",
    "nos4"
   ]
  },
  {
   "cell_type": "markdown",
   "metadata": {},
   "source": [
    "# Plotar Gráficos"
   ]
  },
  {
   "cell_type": "code",
   "execution_count": null,
   "metadata": {},
   "outputs": [],
   "source": []
  },
  {
   "cell_type": "code",
   "execution_count": null,
   "metadata": {},
   "outputs": [],
   "source": []
  },
  {
   "cell_type": "code",
   "execution_count": null,
   "metadata": {},
   "outputs": [],
   "source": []
  },
  {
   "cell_type": "code",
   "execution_count": null,
   "metadata": {},
   "outputs": [],
   "source": []
  },
  {
   "cell_type": "code",
   "execution_count": null,
   "metadata": {},
   "outputs": [],
   "source": []
  },
  {
   "cell_type": "code",
   "execution_count": null,
   "metadata": {},
   "outputs": [],
   "source": []
  },
  {
   "cell_type": "code",
   "execution_count": null,
   "metadata": {},
   "outputs": [],
   "source": []
  },
  {
   "cell_type": "code",
   "execution_count": null,
   "metadata": {},
   "outputs": [],
   "source": []
  },
  {
   "cell_type": "code",
   "execution_count": null,
   "metadata": {},
   "outputs": [],
   "source": []
  },
  {
   "cell_type": "code",
   "execution_count": null,
   "metadata": {},
   "outputs": [],
   "source": []
  },
  {
   "cell_type": "code",
   "execution_count": null,
   "metadata": {},
   "outputs": [],
   "source": []
  },
  {
   "cell_type": "code",
   "execution_count": null,
   "metadata": {},
   "outputs": [],
   "source": []
  },
  {
   "cell_type": "code",
   "execution_count": null,
   "metadata": {},
   "outputs": [],
   "source": []
  },
  {
   "cell_type": "code",
   "execution_count": null,
   "metadata": {},
   "outputs": [],
   "source": []
  },
  {
   "cell_type": "code",
   "execution_count": null,
   "metadata": {},
   "outputs": [],
   "source": []
  },
  {
   "cell_type": "code",
   "execution_count": null,
   "metadata": {},
   "outputs": [],
   "source": []
  },
  {
   "cell_type": "code",
   "execution_count": null,
   "metadata": {},
   "outputs": [],
   "source": []
  }
 ],
 "metadata": {
  "kernelspec": {
   "display_name": "Python 3",
   "language": "python",
   "name": "python3"
  },
  "language_info": {
   "codemirror_mode": {
    "name": "ipython",
    "version": 3
   },
   "file_extension": ".py",
   "mimetype": "text/x-python",
   "name": "python",
   "nbconvert_exporter": "python",
   "pygments_lexer": "ipython3",
   "version": "3.6.4"
  }
 },
 "nbformat": 4,
 "nbformat_minor": 2
}
