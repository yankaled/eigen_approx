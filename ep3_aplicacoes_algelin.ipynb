{
 "cells": [
  {
   "cell_type": "code",
   "execution_count": 1,
   "metadata": {},
   "outputs": [],
   "source": [
    "import numpy as np\n",
    "import scipy\n",
    "import scipy.io\n",
    "import math\n",
    "import matplotlib.pyplot as plt\n",
    "import time"
   ]
  },
  {
   "cell_type": "code",
   "execution_count": 2,
   "metadata": {},
   "outputs": [],
   "source": [
    "def encontrar_primeiro(item, vec):\n",
    "    for i in range(len(vec)):\n",
    "        if math.fabs(item) == math.fabs(vec[i]):\n",
    "            return i\n",
    "    return -1"
   ]
  },
  {
   "cell_type": "code",
   "execution_count": 3,
   "metadata": {},
   "outputs": [],
   "source": [
    "def power_method(args):\n",
    "    A, n, TOL, N, x = args\n",
    "    k = 1\n",
    "    x_p = x[encontrar_primeiro(np.linalg.norm(x, np.inf), x)]\n",
    "    x = x/x_p\n",
    "    while(k <= N):\n",
    "        y = np.matmul(A, x)\n",
    "        y_p = y[encontrar_primeiro(np.linalg.norm(y, np.inf), y)]\n",
    "        u = y_p\n",
    "        if y_p ==0:\n",
    "            print('Autovetor', x)\n",
    "            print('Autovalor 0')\n",
    "            break;\n",
    "        ERR = np.linalg.norm(x - (y/y_p), np.inf)\n",
    "        x = y/y_p\n",
    "        if ERR < TOL:\n",
    "            return [u, k, x]\n",
    "        k += 1\n",
    "    return [u, k, x]"
   ]
  },
  {
   "cell_type": "code",
   "execution_count": 4,
   "metadata": {},
   "outputs": [],
   "source": [
    "def gersgorin_max(n, A):\n",
    "    supremo_raio = []\n",
    "    quasi_sum_linha = []\n",
    "    for i in range(n):\n",
    "        soma = 0\n",
    "        for j in range(n):\n",
    "            if(i!=j):\n",
    "                soma = soma + math.fabs(A[i][i])\n",
    "        quasi_sum_linha.append(soma)\n",
    "        \n",
    "    for i, e in enumerate(np.diag(A)):\n",
    "        supremo_raio.append(e + quasi_sum_linha[i])\n",
    "    \n",
    "    return max(supremo_raio)"
   ]
  },
  {
   "cell_type": "markdown",
   "metadata": {},
   "source": [
    "No método da potência inverso, vamos usar um $q$ diferente do sugerido por Burden. Como supomos que não há informação sobre um vetor $x^{(0)}$ próximo do autovetor correspondente ao maior autovalor, vamos utilizar os Círculos de Gersgorin para inferir um bom valor inicial para $q$. Como $q$ deve estar próximo do maior autovalor da matriz $A$, vamos usar o ponto de maior valor dentre todos pontos onde algum Círculo de Gersgorin cruza a reta considerando todos os círculos de Gersgorin."
   ]
  },
  {
   "cell_type": "code",
   "execution_count": 5,
   "metadata": {},
   "outputs": [],
   "source": [
    "def inverse_power_method(args):\n",
    "    A, n, TOL, N, x = args\n",
    "    q = gersgorin_max(n, A)\n",
    "    k = 1\n",
    "    x_p = x[encontrar_primeiro(np.linalg.norm(x, np.inf), x)]\n",
    "    x = x/x_p\n",
    "    AqI = A - q*np.identity(n)\n",
    "    while(k <= N):\n",
    "        try:\n",
    "            y = np.linalg.solve(AqI, x)\n",
    "        except:\n",
    "            print('q é um autovalor: ', q)\n",
    "            break;\n",
    "        y_p = y[encontrar_primeiro(np.linalg.norm(y, np.inf), y)]\n",
    "        u = y_p\n",
    "        ERR = np.linalg.norm(x - (y/y_p), np.inf)\n",
    "        x = y/y_p\n",
    "        if ERR < TOL:\n",
    "            u = (1/u) + q\n",
    "            return [u, k, q]\n",
    "        k += 1\n",
    "        \n",
    "    u = (1/u) + q\n",
    "    return [u, k, q]"
   ]
  },
  {
   "cell_type": "code",
   "execution_count": 148,
   "metadata": {},
   "outputs": [],
   "source": [
    "def QR(args):\n",
    "    A, n, TOL, N, dummy = args\n",
    "    k = 1\n",
    "    Ak_1 = A\n",
    "    Uk_1 = np.identity(n)\n",
    "    stop = False\n",
    "    while(k <= N):\n",
    "        Q, R = np.linalg.qr(Ak_1)\n",
    "        Ak = np.matmul(R, Q)\n",
    "        Ak_1 = Ak\n",
    "        Uk = np.matmul(Uk_1, Q)\n",
    "        Uk_1 = Uk\n",
    "        k += 1\n",
    "        stop = True\n",
    "        index = np.where(np.diag(Ak)==max(np.diag(Ak)))[0][0]\n",
    "        if index < n-1:\n",
    "            if math.fabs(Ak[index][index+1]) > TOL:\n",
    "                stop = False\n",
    "        else:\n",
    "            if math.fabs(Ak[index][index-1]) > TOL:\n",
    "                stop = False\n",
    "        if stop:\n",
    "            break;\n",
    "    return [max(np.diag(Ak)), k, dummy]"
   ]
  },
  {
   "cell_type": "code",
   "execution_count": 7,
   "metadata": {},
   "outputs": [],
   "source": [
    "def executor_timer(f, args, tcpu, iter_, autoval_):\n",
    "    start = time.time()\n",
    "    res = f(args)\n",
    "    end = time.time()\n",
    "    tcpu.append(end - start)\n",
    "    autoval_.append(res[0])\n",
    "    iter_.append(res[1])    "
   ]
  },
  {
   "cell_type": "code",
   "execution_count": 8,
   "metadata": {},
   "outputs": [],
   "source": [
    "def executor_loops(argumentos, h, g, tcpu, iter_, autoval_):\n",
    "    av_ = []\n",
    "    tc_ = []\n",
    "    it_ = [] \n",
    "    for arg in argumentos:\n",
    "        g(h, arg, tc_, it_, av_)\n",
    "    tcpu.append(tc_)\n",
    "    iter_.append(it_)\n",
    "    autoval_.append(av_)"
   ]
  },
  {
   "cell_type": "code",
   "execution_count": 136,
   "metadata": {},
   "outputs": [],
   "source": [
    "LF10 = scipy.sparse.csr_matrix(scipy.io.mmread('matrizes/LF10.mtx'))\n",
    "bcsstk01 = scipy.sparse.csr_matrix(scipy.io.mmread('matrizes/bcsstk01.mtx'))\n",
    "nos4 = scipy.sparse.csr_matrix(scipy.io.mmread('matrizes/nos4.mtx'))\n",
    "bcsstm05 = scipy.sparse.csr_matrix(scipy.io.mmread('matrizes/bcsstm05.mtx'))\n",
    "Trefethen_300 = scipy.sparse.csr_matrix(scipy.io.mmread('matrizes/Trefethen_300.mtx'))\n",
    "_494_bus = scipy.sparse.csr_matrix(scipy.io.mmread('matrizes/494_bus.mtx'))"
   ]
  },
  {
   "cell_type": "markdown",
   "metadata": {},
   "source": [
    "## Visualização das Matrizes"
   ]
  },
  {
   "cell_type": "code",
   "execution_count": 220,
   "metadata": {},
   "outputs": [
    {
     "data": {
      "text/plain": [
       "<matplotlib.lines.Line2D at 0x1b024697f60>"
      ]
     },
     "execution_count": 220,
     "metadata": {},
     "output_type": "execute_result"
    },
    {
     "data": {
      "image/png": "[encoded data removed]",
      "text/plain": [
       "<Figure size 432x288 with 1 Axes>"
      ]
     },
     "metadata": {
      "needs_background": "light"
     },
     "output_type": "display_data"
    }
   ],
   "source": [
    "plt.spy(LF10, precision='present', marker='o', markersize=3)"
   ]
  },
  {
   "cell_type": "code",
   "execution_count": 221,
   "metadata": {},
   "outputs": [
    {
     "data": {
      "text/plain": [
       "<matplotlib.lines.Line2D at 0x1b024706278>"
      ]
     },
     "execution_count": 221,
     "metadata": {},
     "output_type": "execute_result"
    },
    {
     "data": {
      "image/png": "[encoded data removed]",
      "text/plain": [
       "<Figure size 432x288 with 1 Axes>"
      ]
     },
     "metadata": {
      "needs_background": "light"
     },
     "output_type": "display_data"
    }
   ],
   "source": [
    "plt.spy(bcsstk01, precision='present', marker='o', markersize=3)"
   ]
  },
  {
   "cell_type": "code",
   "execution_count": 222,
   "metadata": {},
   "outputs": [
    {
     "data": {
      "text/plain": [
       "<matplotlib.lines.Line2D at 0x1b02474ba20>"
      ]
     },
     "execution_count": 222,
     "metadata": {},
     "output_type": "execute_result"
    },
    {
     "data": {
      "image/png": "[encoded data removed]",
      "text/plain": [
       "<Figure size 432x288 with 1 Axes>"
      ]
     },
     "metadata": {
      "needs_background": "light"
     },
     "output_type": "display_data"
    }
   ],
   "source": [
    "plt.spy(nos4, precision='present', markersize=1)"
   ]
  },
  {
   "cell_type": "code",
   "execution_count": 223,
   "metadata": {},
   "outputs": [
    {
     "data": {
      "text/plain": [
       "<matplotlib.lines.Line2D at 0x1b0247a33c8>"
      ]
     },
     "execution_count": 223,
     "metadata": {},
     "output_type": "execute_result"
    },
    {
     "data": {
      "image/png": "[encoded data removed]",
      "text/plain": [
       "<Figure size 432x288 with 1 Axes>"
      ]
     },
     "metadata": {
      "needs_background": "light"
     },
     "output_type": "display_data"
    }
   ],
   "source": [
    "plt.spy(bcsstm05, precision='present', markersize=1)"
   ]
  },
  {
   "cell_type": "code",
   "execution_count": 224,
   "metadata": {},
   "outputs": [
    {
     "data": {
      "text/plain": [
       "<matplotlib.lines.Line2D at 0x1b024801dd8>"
      ]
     },
     "execution_count": 224,
     "metadata": {},
     "output_type": "execute_result"
    },
    {
     "data": {
      "image/png": "[encoded data removed]",
      "text/plain": [
       "<Figure size 432x288 with 1 Axes>"
      ]
     },
     "metadata": {
      "needs_background": "light"
     },
     "output_type": "display_data"
    }
   ],
   "source": [
    "plt.spy(Trefethen_300, precision='present', markersize=1)"
   ]
  },
  {
   "cell_type": "code",
   "execution_count": 225,
   "metadata": {},
   "outputs": [
    {
     "data": {
      "text/plain": [
       "<matplotlib.lines.Line2D at 0x1b02485f4e0>"
      ]
     },
     "execution_count": 225,
     "metadata": {},
     "output_type": "execute_result"
    },
    {
     "data": {
      "image/png": "[encoded data removed]",
      "text/plain": [
       "<Figure size 432x288 with 1 Axes>"
      ]
     },
     "metadata": {
      "needs_background": "light"
     },
     "output_type": "display_data"
    }
   ],
   "source": [
    "plt.spy(_494_bus, precision='present', marker='o', markersize=1)"
   ]
  },
  {
   "cell_type": "markdown",
   "metadata": {},
   "source": [
    "## Power Method"
   ]
  },
  {
   "cell_type": "code",
   "execution_count": 160,
   "metadata": {},
   "outputs": [],
   "source": [
    "tempo_CPU_PM = []\n",
    "iteracoes_PM = []\n",
    "autovalores_PM = []"
   ]
  },
  {
   "cell_type": "code",
   "execution_count": 161,
   "metadata": {},
   "outputs": [],
   "source": [
    "TOL_PM = [0.1, 0.01, 0.001, 0.0001, 0.00001, 0.000001, 0.00000001]"
   ]
  },
  {
   "cell_type": "code",
   "execution_count": 162,
   "metadata": {},
   "outputs": [],
   "source": [
    "N_ = 10000\n",
    "for tol in TOL_PM:\n",
    "    argumentos_LF10 = [np.array(LF10.todense()), LF10.shape[0], tol, N_, np.ones(LF10.shape[0])]\n",
    "    argumentos_bcsstk01 = [np.array(bcsstk01.todense()), bcsstk01.shape[0], tol, N_, np.ones(bcsstk01.shape[0])]\n",
    "    argumentos_nos4 = [np.array(nos4.todense()), nos4.shape[0], tol, N_, np.ones(nos4.shape[0])]\n",
    "    argumentos_bcsstm05 = [np.array(bcsstm05.todense()), bcsstm05.shape[0], tol, N_, np.ones(bcsstm05.shape[0])]\n",
    "    argumentos_Trefethen_300 = [np.array(Trefethen_300.todense()), Trefethen_300.shape[0], tol, N_, np.ones(Trefethen_300.shape[0])]\n",
    "    argumentos_494_bus = [np.array(_494_bus.todense()), _494_bus.shape[0], tol, N_, np.ones(_494_bus.shape[0])]\n",
    "    args_ = [argumentos_LF10, argumentos_bcsstk01, argumentos_nos4, argumentos_bcsstm05, argumentos_Trefethen_300, argumentos_494_bus]\n",
    "    executor_loops(args_, power_method, executor_timer, tempo_CPU_PM, iteracoes_PM, autovalores_PM)"
   ]
  },
  {
   "cell_type": "code",
   "execution_count": 226,
   "metadata": {},
   "outputs": [
    {
     "data": {
      "text/plain": [
       "1.8921012878417969"
      ]
     },
     "execution_count": 226,
     "metadata": {},
     "output_type": "execute_result"
    }
   ],
   "source": [
    "a = 0\n",
    "for t_ in tempo_CPU_PM:\n",
    "    a += sum(t_)\n",
    "a"
   ]
  },
  {
   "cell_type": "code",
   "execution_count": 163,
   "metadata": {},
   "outputs": [
    {
     "data": {
      "text/plain": [
       "[[0.0, 0.0, 0.0009965896606445312, 0.0, 0.0029888153076171875, 0.0],\n",
       " [0.0,\n",
       "  0.002991914749145508,\n",
       "  0.0029914379119873047,\n",
       "  0.002992391586303711,\n",
       "  0.0069806575775146484,\n",
       "  0.0009984970092773438],\n",
       " [0.0010235309600830078,\n",
       "  0.011997461318969727,\n",
       "  0.004986286163330078,\n",
       "  0.005984067916870117,\n",
       "  0.06180739402770996,\n",
       "  0.0009980201721191406],\n",
       " [0.000997304916381836,\n",
       "  0.011968135833740234,\n",
       "  0.005983829498291016,\n",
       "  0.00498652458190918,\n",
       "  0.1845076084136963,\n",
       "  0.002991914749145508],\n",
       " [0.0009965896606445312,\n",
       "  0.01795196533203125,\n",
       "  0.007982015609741211,\n",
       "  0.007979154586791992,\n",
       "  0.28234148025512695,\n",
       "  0.002991914749145508],\n",
       " [0.000997304916381836,\n",
       "  0.02294754981994629,\n",
       "  0.012969017028808594,\n",
       "  0.00897979736328125,\n",
       "  0.43452930450439453,\n",
       "  0.0060160160064697266],\n",
       " [0.008994579315185547,\n",
       "  0.036972999572753906,\n",
       "  0.024971961975097656,\n",
       "  0.014995098114013672,\n",
       "  0.6732749938964844,\n",
       "  0.007037162780761719]]"
      ]
     },
     "execution_count": 163,
     "metadata": {},
     "output_type": "execute_result"
    }
   ],
   "source": [
    "tempo_CPU_PM"
   ]
  },
  {
   "cell_type": "code",
   "execution_count": 164,
   "metadata": {},
   "outputs": [
    {
     "data": {
      "text/plain": [
       "[[6, 4, 8, 5, 5, 2],\n",
       " [13, 44, 44, 24, 37, 2],\n",
       " [18, 198, 93, 48, 306, 3],\n",
       " [24, 352, 148, 71, 864, 24],\n",
       " [29, 506, 217, 95, 1423, 30],\n",
       " [35, 660, 330, 118, 1982, 36],\n",
       " [355, 968, 639, 165, 3100, 47]]"
      ]
     },
     "execution_count": 164,
     "metadata": {},
     "output_type": "execute_result"
    }
   ],
   "source": [
    "iteracoes_PM"
   ]
  },
  {
   "cell_type": "code",
   "execution_count": 165,
   "metadata": {},
   "outputs": [
    {
     "data": {
      "text/plain": [
       "[[295240.5679593107,\n",
       "  3026750869.0485363,\n",
       "  0.7570105239945437,\n",
       "  0.927954241357,\n",
       "  1992.4971269539517,\n",
       "  2220.8739999925438],\n",
       " [302763.8003306611,\n",
       "  3015173004.1829395,\n",
       "  0.8495452096038754,\n",
       "  0.927954241357,\n",
       "  1989.595330135093,\n",
       "  2220.8739999925438],\n",
       " [303286.34972723137,\n",
       "  3015178471.8322573,\n",
       "  0.8496900380420218,\n",
       "  0.927954241357,\n",
       "  1987.6411735998722,\n",
       "  2220.956313814004],\n",
       " [303357.92683792196,\n",
       "  3015179028.114388,\n",
       "  0.8491961376501183,\n",
       "  0.927954241357,\n",
       "  1987.3017983636037,\n",
       "  30005.141764126427],\n",
       " [303363.8084856246,\n",
       "  3015179083.721749,\n",
       "  0.8491414163462694,\n",
       "  0.927954241357,\n",
       "  1987.2749475061883,\n",
       "  30005.141764126427],\n",
       " [303364.61723534623,\n",
       "  3015179089.280332,\n",
       "  0.8491378233507709,\n",
       "  0.927954241357,\n",
       "  1987.2723739950984,\n",
       "  30005.141764126427],\n",
       " [333192.3953189063,\n",
       "  3015179089.891517,\n",
       "  0.8491377837807588,\n",
       "  0.927954241357,\n",
       "  1987.2720934429913,\n",
       "  30005.141764126427]]"
      ]
     },
     "execution_count": 165,
     "metadata": {},
     "output_type": "execute_result"
    }
   ],
   "source": [
    "autovalores_PM"
   ]
  },
  {
   "cell_type": "markdown",
   "metadata": {},
   "source": [
    "## Inverse Power Method"
   ]
  },
  {
   "cell_type": "code",
   "execution_count": 175,
   "metadata": {},
   "outputs": [],
   "source": [
    "tempo_CPU_IPM = []\n",
    "iteracoes_IPM = []\n",
    "autovalores_IPM = []"
   ]
  },
  {
   "cell_type": "code",
   "execution_count": 176,
   "metadata": {},
   "outputs": [],
   "source": [
    "TOL_ = [0.1, 0.01, 0.001, 0.0001, 0.00001, 0.000001, 0.00000001]"
   ]
  },
  {
   "cell_type": "code",
   "execution_count": 177,
   "metadata": {},
   "outputs": [],
   "source": [
    "N_ = 10000\n",
    "for tol in TOL_:\n",
    "    argumentos_LF10 = [np.array(LF10.todense()), LF10.shape[0], tol, N_, np.ones(LF10.shape[0])]\n",
    "    argumentos_bcsstk01 = [np.array(bcsstk01.todense()), bcsstk01.shape[0], tol, N_, np.ones(bcsstk01.shape[0])]\n",
    "    argumentos_nos4 = [np.array(nos4.todense()), nos4.shape[0], tol, N_, np.ones(nos4.shape[0])]\n",
    "    argumentos_bcsstm05 = [np.array(bcsstm05.todense()), bcsstm05.shape[0], tol, N_, np.ones(bcsstm05.shape[0])]\n",
    "    argumentos_Trefethen_300 = [np.array(Trefethen_300.todense()), Trefethen_300.shape[0], tol, N_, np.ones(Trefethen_300.shape[0])]\n",
    "    argumentos_494_bus = [np.array(_494_bus.todense()), _494_bus.shape[0], tol, N_, np.ones(_494_bus.shape[0])]\n",
    "    args_ = [argumentos_LF10, argumentos_bcsstk01, argumentos_nos4, argumentos_bcsstm05, argumentos_Trefethen_300, argumentos_494_bus]\n",
    "    executor_loops(args_, inverse_power_method, executor_timer, tempo_CPU_IPM, iteracoes_IPM, autovalores_IPM)"
   ]
  },
  {
   "cell_type": "code",
   "execution_count": 178,
   "metadata": {},
   "outputs": [
    {
     "data": {
      "text/plain": [
       "173.67775869369507"
      ]
     },
     "execution_count": 178,
     "metadata": {},
     "output_type": "execute_result"
    }
   ],
   "source": [
    "a = 0\n",
    "for t_ in tempo_CPU_IPM:\n",
    "    a += sum(t_)\n",
    "a"
   ]
  },
  {
   "cell_type": "code",
   "execution_count": 179,
   "metadata": {},
   "outputs": [
    {
     "data": {
      "text/plain": [
       "[[0.0,\n",
       "  0.0009958744049072266,\n",
       "  0.00499272346496582,\n",
       "  0.010964155197143555,\n",
       "  0.040891170501708984,\n",
       "  0.1077125072479248],\n",
       " [0.002981424331665039,\n",
       "  0.003989219665527344,\n",
       "  0.00399017333984375,\n",
       "  0.009975910186767578,\n",
       "  0.049895524978637695,\n",
       "  0.13980913162231445],\n",
       " [0.0039882659912109375,\n",
       "  0.018949508666992188,\n",
       "  0.07880592346191406,\n",
       "  0.10184788703918457,\n",
       "  0.3450133800506592,\n",
       "  0.12071561813354492],\n",
       " [0.010483503341674805,\n",
       "  0.33589792251586914,\n",
       "  0.36060047149658203,\n",
       "  0.7622225284576416,\n",
       "  3.554126739501953,\n",
       "  27.95303463935852],\n",
       " [0.010001420974731445,\n",
       "  0.7176694869995117,\n",
       "  0.8339102268218994,\n",
       "  2.3249423503875732,\n",
       "  8.60472583770752,\n",
       "  30.21100878715515],\n",
       " [0.015972375869750977,\n",
       "  0.7515027523040771,\n",
       "  1.134042739868164,\n",
       "  2.995898962020874,\n",
       "  8.370194673538208,\n",
       "  32.82721209526062],\n",
       " [0.11967110633850098,\n",
       "  0.6907641887664795,\n",
       "  1.2360429763793945,\n",
       "  2.6888654232025146,\n",
       "  8.57815670967102,\n",
       "  37.545292377471924]]"
      ]
     },
     "execution_count": 179,
     "metadata": {},
     "output_type": "execute_result"
    }
   ],
   "source": [
    "tempo_CPU_IPM"
   ]
  },
  {
   "cell_type": "code",
   "execution_count": 180,
   "metadata": {},
   "outputs": [
    {
     "data": {
      "text/plain": [
       "[[1, 1, 1, 1, 1, 1],\n",
       " [69, 37, 1, 1, 1, 1],\n",
       " [128, 250, 647, 367, 369, 1],\n",
       " [193, 4128, 2866, 2954, 3653, 7125],\n",
       " [257, 10001, 5509, 6696, 10001, 7938],\n",
       " [322, 10001, 8464, 10001, 10001, 8755],\n",
       " [2889, 10001, 10001, 10001, 10001, 10001]]"
      ]
     },
     "execution_count": 180,
     "metadata": {},
     "output_type": "execute_result"
    }
   ],
   "source": [
    "iteracoes_IPM"
   ]
  },
  {
   "cell_type": "code",
   "execution_count": 181,
   "metadata": {},
   "outputs": [
    {
     "data": {
      "text/plain": [
       "[[88416.243274556,\n",
       "  3545753575.1734924,\n",
       "  0.23687001181192358,\n",
       "  0.9279542413570141,\n",
       "  1995.9936972241849,\n",
       "  2198.670196376741],\n",
       " [304588.25378020573,\n",
       "  3288437869.953079,\n",
       "  0.23687001181192358,\n",
       "  0.9279542413570141,\n",
       "  1995.9936972241849,\n",
       "  2198.670196376741],\n",
       " [302610.591871622,\n",
       "  2989649614.2232056,\n",
       "  0.815296339590418,\n",
       "  0.9279542413570141,\n",
       "  1994.3177966288058,\n",
       "  2198.670196376741],\n",
       " [303284.50668113213,\n",
       "  3015176708.274246,\n",
       "  0.8497698044680462,\n",
       "  0.9279542413570141,\n",
       "  1991.0592704870505,\n",
       "  30219.505989840254],\n",
       " [303356.54755927436,\n",
       "  3015178844.263687,\n",
       "  0.8494326767950113,\n",
       "  0.9279542413570141,\n",
       "  1989.7062605199171,\n",
       "  30023.122620910406],\n",
       " [303363.9065220631,\n",
       "  3015178844.263687,\n",
       "  0.8491662313319992,\n",
       "  0.9279542413570141,\n",
       "  1989.7062605199171,\n",
       "  30006.640688590705],\n",
       " [333192.38846333977,\n",
       "  3015178844.263687,\n",
       "  0.8491463182890087,\n",
       "  0.9279542413570141,\n",
       "  1989.7062605199171,\n",
       "  30005.175790991634]]"
      ]
     },
     "execution_count": 181,
     "metadata": {},
     "output_type": "execute_result"
    }
   ],
   "source": [
    "autovalores_IPM"
   ]
  },
  {
   "cell_type": "markdown",
   "metadata": {},
   "source": [
    "## QR"
   ]
  },
  {
   "cell_type": "code",
   "execution_count": 205,
   "metadata": {},
   "outputs": [],
   "source": [
    "tempo_CPU_QR = []\n",
    "iteracoes_QR = []\n",
    "autovalores_QR = []"
   ]
  },
  {
   "cell_type": "code",
   "execution_count": 195,
   "metadata": {},
   "outputs": [],
   "source": [
    "TOL_QR = [0.1, 0.01, 0.001, 0.0001, 0.00001, 0.000001, 0.00000001]"
   ]
  },
  {
   "cell_type": "code",
   "execution_count": 206,
   "metadata": {},
   "outputs": [],
   "source": [
    "N_ = 1000\n",
    "for tol in TOL_QR:\n",
    "    argumentos_LF10 = [np.array(LF10.todense()), LF10.shape[0], tol, N_, np.ones(LF10.shape[0])]\n",
    "    argumentos_bcsstk01 = [np.array(bcsstk01.todense()), bcsstk01.shape[0], tol, N_, np.ones(bcsstk01.shape[0])]\n",
    "    argumentos_nos4 = [np.array(nos4.todense()), nos4.shape[0], tol, N_, np.ones(nos4.shape[0])]\n",
    "    argumentos_bcsstm05 = [np.array(bcsstm05.todense()), bcsstm05.shape[0], tol, N_, np.ones(bcsstm05.shape[0])]\n",
    "    argumentos_Trefethen_300 = [np.array(Trefethen_300.todense()), Trefethen_300.shape[0], tol, N_, np.ones(Trefethen_300.shape[0])]\n",
    "    argumentos_494_bus = [np.array(_494_bus.todense()), _494_bus.shape[0], tol, N_, np.ones(_494_bus.shape[0])]\n",
    "    args_ = [argumentos_LF10, argumentos_bcsstk01, argumentos_nos4, argumentos_bcsstm05, argumentos_Trefethen_300, argumentos_494_bus]\n",
    "    executor_loops(args_, QR, executor_timer, tempo_CPU_QR, iteracoes_QR, autovalores_QR)"
   ]
  },
  {
   "cell_type": "code",
   "execution_count": 207,
   "metadata": {},
   "outputs": [
    {
     "data": {
      "text/plain": [
       "62.93862819671631"
      ]
     },
     "execution_count": 207,
     "metadata": {},
     "output_type": "execute_result"
    }
   ],
   "source": [
    "a = 0\n",
    "for t_ in tempo_CPU_QR:\n",
    "    a += sum(t_)\n",
    "a"
   ]
  },
  {
   "cell_type": "code",
   "execution_count": 208,
   "metadata": {},
   "outputs": [
    {
     "data": {
      "text/plain": [
       "[[144, 856, 2, 2, 10, 2],\n",
       " [168, 1001, 2, 2, 14, 2],\n",
       " [193, 1001, 2, 2, 18, 62],\n",
       " [217, 1001, 18, 2, 22, 93],\n",
       " [242, 1001, 19, 2, 1001, 99],\n",
       " [266, 1001, 19, 2, 1001, 105],\n",
       " [315, 1001, 984, 2, 1001, 116]]"
      ]
     },
     "execution_count": 208,
     "metadata": {},
     "output_type": "execute_result"
    }
   ],
   "source": [
    "iteracoes_QR"
   ]
  },
  {
   "cell_type": "code",
   "execution_count": 209,
   "metadata": {},
   "outputs": [
    {
     "data": {
      "text/plain": [
       "[[333192.3962415181,\n",
       "  3015179089.897691,\n",
       "  0.5952654678943575,\n",
       "  0.927954241357,\n",
       "  1986.8691599102158,\n",
       "  28221.223600431913],\n",
       " [333192.3962418001,\n",
       "  3015179089.897691,\n",
       "  0.5952654678943575,\n",
       "  0.927954241357,\n",
       "  1986.7497647124178,\n",
       "  28221.223600431913],\n",
       " [333192.39624180296,\n",
       "  3015179089.897691,\n",
       "  0.5952654678943575,\n",
       "  0.927954241357,\n",
       "  1986.3594722577584,\n",
       "  29106.508162197013],\n",
       " [333192.39624180296,\n",
       "  3015179089.897691,\n",
       "  0.8212692618917131,\n",
       "  0.927954241357,\n",
       "  1985.234532266744,\n",
       "  30005.14176261468],\n",
       " [333192.39624180296,\n",
       "  3015179089.897691,\n",
       "  0.8233254415779223,\n",
       "  0.927954241357,\n",
       "  1987.1964506608892,\n",
       "  30005.141764114353],\n",
       " [333192.39624180296,\n",
       "  3015179089.897691,\n",
       "  0.8233254415779223,\n",
       "  0.927954241357,\n",
       "  1987.1964506608892,\n",
       "  30005.141764126343],\n",
       " [333192.39624180296,\n",
       "  3015179089.897691,\n",
       "  0.849137783780574,\n",
       "  0.927954241357,\n",
       "  1987.1964506608892,\n",
       "  30005.141764126438]]"
      ]
     },
     "execution_count": 209,
     "metadata": {},
     "output_type": "execute_result"
    }
   ],
   "source": [
    "autovalores_QR"
   ]
  }
 ],
 "metadata": {
  "kernelspec": {
   "display_name": "Python 3",
   "language": "python",
   "name": "python3"
  },
  "language_info": {
   "codemirror_mode": {
    "name": "ipython",
    "version": 3
   },
   "file_extension": ".py",
   "mimetype": "text/x-python",
   "name": "python",
   "nbconvert_exporter": "python",
   "pygments_lexer": "ipython3",
   "version": "3.7.3"
  }
 },
 "nbformat": 4,
 "nbformat_minor": 2
}
